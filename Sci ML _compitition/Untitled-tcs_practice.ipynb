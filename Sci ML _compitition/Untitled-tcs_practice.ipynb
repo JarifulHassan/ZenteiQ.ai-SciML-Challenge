{
 "cells": [
  {
   "cell_type": "code",
   "execution_count": 7,
   "metadata": {},
   "outputs": [
    {
     "name": "stdout",
     "output_type": "stream",
     "text": [
      "is_pelindrome False\n"
     ]
    }
   ],
   "source": [
    "n=int(input(\"enter the number to get to know the pelindrome\"))\n",
    "def is_pelindrome(n):\n",
    "    original,reversed_num = n,0\n",
    "\n",
    "    while n>0:\n",
    "       temp=n%10\n",
    "       reversed_num=reversed_num*10+temp\n",
    "       n//=10\n",
    "    return original==reversed_num\n",
    "print(\"is_pelindrome\",is_pelindrome(n))"
   ]
  },
  {
   "cell_type": "code",
   "execution_count": 21,
   "metadata": {},
   "outputs": [
    {
     "data": {
      "text/plain": [
       "6"
      ]
     },
     "execution_count": 21,
     "metadata": {},
     "output_type": "execute_result"
    }
   ],
   "source": [
    "def facatorial(x):\n",
    "    fact=1\n",
    "    for i in range(1,x+1):\n",
    "        fact =fact*i\n",
    "    return fact\n",
    "x=int(input(\"enter_num to get factorial\"))\n",
    "facatorial(x)"
   ]
  },
  {
   "cell_type": "code",
   "execution_count": 28,
   "metadata": {},
   "outputs": [
    {
     "name": "stdout",
     "output_type": "stream",
     "text": [
      "1 -> 2\n",
      "2 -> 1\n",
      "3 -> 1\n",
      "4 -> 1\n",
      "56 -> 1\n",
      "6 -> 2\n"
     ]
    }
   ],
   "source": [
    "arr = [1, 1, 2, 3, 4, 56, 6, 6]\n",
    "\n",
    "# Dictionary to count occurrences\n",
    "count_dict = {}\n",
    "\n",
    "# Count occurrences of each value\n",
    "for v in arr:\n",
    "    if v in count_dict:\n",
    "        count_dict[v] += 1\n",
    "    else:\n",
    "        count_dict[v] = 1\n",
    "\n",
    "# Print the occurrences\n",
    "for key, value in count_dict.items():\n",
    "    print(f\"{key} -> {value}\")\n"
   ]
  },
  {
   "cell_type": "code",
   "execution_count": 15,
   "metadata": {},
   "outputs": [
    {
     "name": "stdout",
     "output_type": "stream",
     "text": [
      "1996 is leap year\n"
     ]
    }
   ],
   "source": [
    "#check if the give year is a lep year\n",
    "def leap_year(x):\n",
    "    if x%400==0:\n",
    "        return True\n",
    "    if x%100==0:\n",
    "        return True\n",
    "    if x%4==0:\n",
    "        return True\n",
    "x=int(input(\"enter the year\"))\n",
    "if leap_year(x):\n",
    "    print(f\"{x} is leap year\")\n",
    "else:\n",
    "    print(f\"{x} is no leap year\")\n"
   ]
  },
  {
   "cell_type": "code",
   "execution_count": 25,
   "metadata": {},
   "outputs": [
    {
     "name": "stdout",
     "output_type": "stream",
     "text": [
      "Sorted array: [2, 3, 4, 5, 8]\n"
     ]
    }
   ],
   "source": [
    "def bubble_sort(x):\n",
    "    n = len(x)\n",
    "    for i in range(n - 1):  # Loop for passes\n",
    "        swapped = False\n",
    "        for j in range(n - i - 1):  # Loop for comparisons\n",
    "            if x[j] > x[j + 1]:  # Swap if needed\n",
    "                x[j], x[j + 1] = x[j + 1], x[j]\n",
    "                swapped = True\n",
    "        if not swapped:\n",
    "            break  # Stop if sorted early\n",
    "\n",
    "x = [5, 3, 8, 4, 2]\n",
    "bubble_sort(x)\n",
    "print(\"Sorted array:\", x)\n"
   ]
  },
  {
   "cell_type": "code",
   "execution_count": 31,
   "metadata": {},
   "outputs": [
    {
     "data": {
      "text/plain": [
       "(10, 5)"
      ]
     },
     "execution_count": 31,
     "metadata": {},
     "output_type": "execute_result"
    }
   ],
   "source": [
    "#awap 2 number without using the 3rd variable\n",
    "a=5 \n",
    "b=10\n",
    "a=a+b\n",
    "b=a-b\n",
    "a=a-b\n",
    "a,b"
   ]
  },
  {
   "cell_type": "code",
   "execution_count": 46,
   "metadata": {},
   "outputs": [
    {
     "name": "stdout",
     "output_type": "stream",
     "text": [
      "Minimum element: 2\n",
      "Maximum element: 9\n"
     ]
    }
   ],
   "source": [
    "arr = [2, 3, 6, 7, 8, 9]\n",
    "\n",
    "# Initialize min and max with the first element\n",
    "min_val = arr[0]\n",
    "max_val = arr[0]\n",
    "\n",
    "for i in range(1, len(arr)):  # Start from the second element\n",
    "    if arr[i] < min_val:  \n",
    "        min_val = arr[i]  # Update min\n",
    "    if arr[i] > max_val:  \n",
    "        max_val = arr[i]  # Update max\n",
    "\n",
    "print(\"Minimum element:\", min_val)\n",
    "print(\"Maximum element:\", max_val)\n"
   ]
  },
  {
   "cell_type": "code",
   "execution_count": 48,
   "metadata": {},
   "outputs": [
    {
     "data": {
      "text/plain": [
       "22"
      ]
     },
     "execution_count": 48,
     "metadata": {},
     "output_type": "execute_result"
    }
   ],
   "source": [
    "#we need to find the sum of ap seriees\n",
    "def sum_series(s,d,n):\n",
    "    for x in range(1,n+1):\n",
    "        s=s+x*d\n",
    "    return s\n",
    "sum_series(2,2,4)"
   ]
  },
  {
   "cell_type": "code",
   "execution_count": null,
   "metadata": {},
   "outputs": [],
   "source": []
  },
  {
   "cell_type": "code",
   "execution_count": 50,
   "metadata": {},
   "outputs": [
    {
     "name": "stdout",
     "output_type": "stream",
     "text": [
      "9 is odd\n"
     ]
    }
   ],
   "source": [
    "def is_odd(x):\n",
    "    if x%2== 0:\n",
    "        print(f\"{x}is even\")\n",
    "    else:\n",
    "        print(f\"{x} is odd\")\n",
    "is_odd(9)\n",
    "\n"
   ]
  },
  {
   "cell_type": "markdown",
   "metadata": {},
   "source": [
    "F(n)= \n",
    "⎩\n",
    "⎨\n",
    "⎧\n",
    "​\n",
    "  \n",
    "0,\n",
    "1,\n",
    "F(n−1)+F(n−2),\n",
    "​\n",
    "  \n",
    "if n=0\n",
    "if n=1\n",
    "if n≥2\n",
    "​\n"
   ]
  },
  {
   "cell_type": "code",
   "execution_count": 53,
   "metadata": {},
   "outputs": [
    {
     "name": "stdout",
     "output_type": "stream",
     "text": [
      "[0, 1, 1, 2, 3, 5, 8, 13, 21, 34]\n"
     ]
    }
   ],
   "source": [
    "def fibonacci_iterative(n):\n",
    "    a, b = 0, 1\n",
    "    for i in range(n):\n",
    "        a, b = b, a + b\n",
    "    return a\n",
    "\n",
    "# Print first 10 Fibonacci numbers\n",
    "print([fibonacci_iterative(i) for i in range(10)])\n"
   ]
  },
  {
   "cell_type": "code",
   "execution_count": 55,
   "metadata": {},
   "outputs": [
    {
     "name": "stdout",
     "output_type": "stream",
     "text": [
      "[0, 1, 2, 4, 8, 16, 32, 64, 128]\n"
     ]
    }
   ],
   "source": [
    "def febonici(n):\n",
    "    f1=0\n",
    "    f2=1\n",
    "    for i in range(n):\n",
    "        f1=f2\n",
    "        f2=f1+f2\n",
    "    return f1\n",
    "print([febonici(i) for i in range(9)])"
   ]
  },
  {
   "cell_type": "code",
   "execution_count": 59,
   "metadata": {},
   "outputs": [
    {
     "name": "stdout",
     "output_type": "stream",
     "text": [
      "[0, 1, 1, 2, 3, 5, 8, 13]\n"
     ]
    }
   ],
   "source": [
    "def febonici(n):\n",
    "    f_n=[0,1]\n",
    "    for i in range(2, n):  # Start from index 2\n",
    "        f_n.append(f_n[i-1] + f_n[i-2])  # Append new Fibonacci number\n",
    "    return f_n\n",
    "print(febonici(8))"
   ]
  },
  {
   "cell_type": "code",
   "execution_count": 60,
   "metadata": {},
   "outputs": [
    {
     "name": "stdout",
     "output_type": "stream",
     "text": [
      "mukljk\n"
     ]
    }
   ],
   "source": [
    "def reverse_string(s):\n",
    "    return s[::-1]\n",
    "\n",
    "# Example Test\n",
    "s = input(\"Enter a string: \")\n",
    "print(reverse_string(s))\n"
   ]
  },
  {
   "cell_type": "code",
   "execution_count": null,
   "metadata": {},
   "outputs": [],
   "source": []
  }
 ],
 "metadata": {
  "kernelspec": {
   "display_name": "base",
   "language": "python",
   "name": "python3"
  },
  "language_info": {
   "codemirror_mode": {
    "name": "ipython",
    "version": 3
   },
   "file_extension": ".py",
   "mimetype": "text/x-python",
   "name": "python",
   "nbconvert_exporter": "python",
   "pygments_lexer": "ipython3",
   "version": "3.12.4"
  }
 },
 "nbformat": 4,
 "nbformat_minor": 2
}
